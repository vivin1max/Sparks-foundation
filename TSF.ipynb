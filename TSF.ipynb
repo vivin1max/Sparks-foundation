{
  "nbformat": 4,
  "nbformat_minor": 0,
  "metadata": {
    "kernelspec": {
      "display_name": "Python 3",
      "language": "python",
      "name": "python3"
    },
    "language_info": {
      "codemirror_mode": {
        "name": "ipython",
        "version": 3
      },
      "file_extension": ".py",
      "mimetype": "text/x-python",
      "name": "python",
      "nbconvert_exporter": "python",
      "pygments_lexer": "ipython3",
      "version": "3.8.3"
    },
    "colab": {
      "name": "TSF.ipynb",
      "provenance": [],
      "collapsed_sections": []
    }
  },
  "cells": [
    {
      "cell_type": "markdown",
      "metadata": {
        "id": "kAkDHG6SaWBb"
      },
      "source": [
        "##Name: Vivin T\n",
        "##The Sparks Foundation\n",
        "## Data Science & Business Analytics \n",
        "###Task 1:Prediction using Supervised ML\n",
        "###Problem Statement:Predict the percentage of an student based on the no. of study hours\n"
      ]
    },
    {
      "cell_type": "markdown",
      "metadata": {
        "id": "ads6yBtqaWBc"
      },
      "source": [
        "### Import Libraries"
      ]
    },
    {
      "cell_type": "code",
      "metadata": {
        "id": "0rGlRHBtaWBc"
      },
      "source": [
        "import numpy as np \r\n",
        "import pandas as pd \r\n",
        "import matplotlib.pyplot as plt \r\n",
        "import seaborn as sns \r\n",
        "from sklearn.model_selection import train_test_split\r\n"
      ],
      "execution_count": 19,
      "outputs": []
    },
    {
      "cell_type": "markdown",
      "metadata": {
        "id": "rEEA8eZRaWBd"
      },
      "source": [
        "### Load the data and display first 5 rows."
      ]
    },
    {
      "cell_type": "code",
      "metadata": {
        "id": "mF3Qi2tyaWBd",
        "colab": {
          "base_uri": "https://localhost:8080/",
          "height": 202
        },
        "outputId": "008359a7-a98b-48e9-f1e1-6ec39e632d17"
      },
      "source": [
        "student_data  = pd.read_csv(\"https://raw.githubusercontent.com/AdiPersonalWorks/Random/master/student_scores%20-%20student_scores.csv\" )\r\n",
        "student_data.head()"
      ],
      "execution_count": 3,
      "outputs": [
        {
          "output_type": "execute_result",
          "data": {
            "text/html": [
              "<div>\n",
              "<style scoped>\n",
              "    .dataframe tbody tr th:only-of-type {\n",
              "        vertical-align: middle;\n",
              "    }\n",
              "\n",
              "    .dataframe tbody tr th {\n",
              "        vertical-align: top;\n",
              "    }\n",
              "\n",
              "    .dataframe thead th {\n",
              "        text-align: right;\n",
              "    }\n",
              "</style>\n",
              "<table border=\"1\" class=\"dataframe\">\n",
              "  <thead>\n",
              "    <tr style=\"text-align: right;\">\n",
              "      <th></th>\n",
              "      <th>Hours</th>\n",
              "      <th>Scores</th>\n",
              "    </tr>\n",
              "  </thead>\n",
              "  <tbody>\n",
              "    <tr>\n",
              "      <th>0</th>\n",
              "      <td>2.5</td>\n",
              "      <td>21</td>\n",
              "    </tr>\n",
              "    <tr>\n",
              "      <th>1</th>\n",
              "      <td>5.1</td>\n",
              "      <td>47</td>\n",
              "    </tr>\n",
              "    <tr>\n",
              "      <th>2</th>\n",
              "      <td>3.2</td>\n",
              "      <td>27</td>\n",
              "    </tr>\n",
              "    <tr>\n",
              "      <th>3</th>\n",
              "      <td>8.5</td>\n",
              "      <td>75</td>\n",
              "    </tr>\n",
              "    <tr>\n",
              "      <th>4</th>\n",
              "      <td>3.5</td>\n",
              "      <td>30</td>\n",
              "    </tr>\n",
              "  </tbody>\n",
              "</table>\n",
              "</div>"
            ],
            "text/plain": [
              "   Hours  Scores\n",
              "0    2.5      21\n",
              "1    5.1      47\n",
              "2    3.2      27\n",
              "3    8.5      75\n",
              "4    3.5      30"
            ]
          },
          "metadata": {
            "tags": []
          },
          "execution_count": 3
        }
      ]
    },
    {
      "cell_type": "markdown",
      "metadata": {
        "id": "RHVlzyz6aWBd"
      },
      "source": [
        "### Perform Exploratory Data Analysis"
      ]
    },
    {
      "cell_type": "code",
      "metadata": {
        "id": "pNC0AQc6aWBd",
        "colab": {
          "base_uri": "https://localhost:8080/"
        },
        "outputId": "8cb6734f-835b-4409-eed0-0c38c3e5eb7e"
      },
      "source": [
        "student_data.info()"
      ],
      "execution_count": 5,
      "outputs": [
        {
          "output_type": "stream",
          "text": [
            "<class 'pandas.core.frame.DataFrame'>\n",
            "RangeIndex: 25 entries, 0 to 24\n",
            "Data columns (total 2 columns):\n",
            " #   Column  Non-Null Count  Dtype  \n",
            "---  ------  --------------  -----  \n",
            " 0   Hours   25 non-null     float64\n",
            " 1   Scores  25 non-null     int64  \n",
            "dtypes: float64(1), int64(1)\n",
            "memory usage: 528.0 bytes\n"
          ],
          "name": "stdout"
        }
      ]
    },
    {
      "cell_type": "code",
      "metadata": {
        "colab": {
          "base_uri": "https://localhost:8080/",
          "height": 265
        },
        "id": "xRolumF-DsL1",
        "outputId": "f8920c69-0057-4adf-8471-dd8b5c6ab7c2"
      },
      "source": [
        "line = lr.coef_*X+lr.intercept_\r\n",
        "\r\n",
        "# Plotting for the test data\r\n",
        "plt.scatter(X, y)\r\n",
        "plt.plot(X, line);\r\n",
        "plt.show()"
      ],
      "execution_count": 18,
      "outputs": [
        {
          "output_type": "display_data",
          "data": {
            "image/png": "[encoded data removed]",
            "text/plain": [
              "<Figure size 432x288 with 1 Axes>"
            ]
          },
          "metadata": {
            "tags": [],
            "needs_background": "light"
          }
        }
      ]
    },
    {
      "cell_type": "markdown",
      "metadata": {
        "id": "-6Xcy9FeaWBd"
      },
      "source": [
        "### Separate the Input and Target Features of the data"
      ]
    },
    {
      "cell_type": "code",
      "metadata": {
        "id": "yxHNqG1PaWBd"
      },
      "source": [
        "X=student_data.drop('Scores',axis=1)\r\n",
        "y=student_data[['Scores']]"
      ],
      "execution_count": 14,
      "outputs": []
    },
    {
      "cell_type": "markdown",
      "metadata": {
        "id": "Bsyki2hjaWBd"
      },
      "source": [
        "### Split the data into Train and Test Sets"
      ]
    },
    {
      "cell_type": "code",
      "metadata": {
        "id": "nMPnzPZ2aWBd"
      },
      "source": [
        "\r\n",
        "X_train, X_test, y_train, y_test = train_test_split(X, y, test_size=0.20, random_state=1)"
      ],
      "execution_count": 7,
      "outputs": []
    },
    {
      "cell_type": "markdown",
      "metadata": {
        "id": "kNuCKaCkaWBd"
      },
      "source": [
        "### Perform Data Preparation Steps"
      ]
    },
    {
      "cell_type": "code",
      "metadata": {
        "id": "5zj3nJaHaWBd",
        "colab": {
          "base_uri": "https://localhost:8080/"
        },
        "outputId": "3624de42-9253-48a8-b356-fba4371b8ff9"
      },
      "source": [
        "X_train.isnull().sum()"
      ],
      "execution_count": 8,
      "outputs": [
        {
          "output_type": "execute_result",
          "data": {
            "text/plain": [
              "Hours    0\n",
              "dtype: int64"
            ]
          },
          "metadata": {
            "tags": []
          },
          "execution_count": 8
        }
      ]
    },
    {
      "cell_type": "code",
      "metadata": {
        "colab": {
          "base_uri": "https://localhost:8080/"
        },
        "id": "-3j_7tdb4Jdq",
        "outputId": "db0a64bb-b1ea-4293-c3ab-76b983b15579"
      },
      "source": [
        "X_test.isnull().sum()"
      ],
      "execution_count": 9,
      "outputs": [
        {
          "output_type": "execute_result",
          "data": {
            "text/plain": [
              "Hours    0\n",
              "dtype: int64"
            ]
          },
          "metadata": {
            "tags": []
          },
          "execution_count": 9
        }
      ]
    },
    {
      "cell_type": "markdown",
      "metadata": {
        "id": "M3GISQkNaWBd"
      },
      "source": [
        "### Building Linear Regression Model "
      ]
    },
    {
      "cell_type": "code",
      "metadata": {
        "id": "JlNJAYvdaWBd",
        "colab": {
          "base_uri": "https://localhost:8080/"
        },
        "outputId": "26861a03-8305-430c-811c-2ac121f2432c"
      },
      "source": [
        "from sklearn.linear_model import LinearRegression\r\n",
        "\r\n",
        "lr = LinearRegression()      \r\n",
        "lr.fit(X_train,y_train)"
      ],
      "execution_count": 10,
      "outputs": [
        {
          "output_type": "execute_result",
          "data": {
            "text/plain": [
              "LinearRegression(copy_X=True, fit_intercept=True, n_jobs=None, normalize=False)"
            ]
          },
          "metadata": {
            "tags": []
          },
          "execution_count": 10
        }
      ]
    },
    {
      "cell_type": "markdown",
      "metadata": {
        "id": "GlytbSbgaWBd"
      },
      "source": [
        "### Evaluate your model with various Evaluation Metrics"
      ]
    },
    {
      "cell_type": "code",
      "metadata": {
        "id": "Jju88gE3aWBe",
        "colab": {
          "base_uri": "https://localhost:8080/"
        },
        "outputId": "e4133674-44f9-4093-9c89-0dc3c5239c1d"
      },
      "source": [
        "prediction=lr.predict(X_test)\r\n",
        "from sklearn.metrics import mean_squared_error\r\n",
        "mean_squared_error(y_test,prediction)\r\n"
      ],
      "execution_count": 11,
      "outputs": [
        {
          "output_type": "execute_result",
          "data": {
            "text/plain": [
              "68.88092074277635"
            ]
          },
          "metadata": {
            "tags": []
          },
          "execution_count": 11
        }
      ]
    },
    {
      "cell_type": "code",
      "metadata": {
        "colab": {
          "base_uri": "https://localhost:8080/"
        },
        "id": "52viRwKi4ri3",
        "outputId": "062e948f-92a3-43e3-d22f-25769acb1c6d"
      },
      "source": [
        "np.sqrt(mean_squared_error(y_test,prediction))"
      ],
      "execution_count": 12,
      "outputs": [
        {
          "output_type": "execute_result",
          "data": {
            "text/plain": [
              "8.299453038771674"
            ]
          },
          "metadata": {
            "tags": []
          },
          "execution_count": 12
        }
      ]
    },
    {
      "cell_type": "markdown",
      "metadata": {
        "id": "ujNHwXTH-SkE"
      },
      "source": [
        "Predicted score if a student studies for 9.25 hrs/ day"
      ]
    },
    {
      "cell_type": "code",
      "metadata": {
        "colab": {
          "base_uri": "https://localhost:8080/"
        },
        "id": "24uxGa-Y-ThV",
        "outputId": "dfef1ba6-0f5c-41b8-ea73-66f3892a3322"
      },
      "source": [
        "lr.predict([[9.25]])"
      ],
      "execution_count": 16,
      "outputs": [
        {
          "output_type": "execute_result",
          "data": {
            "text/plain": [
              "array([95.22829438])"
            ]
          },
          "metadata": {
            "tags": []
          },
          "execution_count": 16
        }
      ]
    }
  ]
}